{
 "cells": [
  {
   "cell_type": "markdown",
   "metadata": {},
   "source": [
    "# WPILib ML Testing Notebook\n",
    "\n",
    "If you want to se how well your model works, you can try with the code below. It will use your model to run inference on one of our provided videos.\n",
    "\n",
    "The code below will take roughly an hour to finish running, and will output an annotated video to a bucket."
   ]
  },
  {
   "cell_type": "code",
   "execution_count": null,
   "metadata": {},
   "outputs": [],
   "source": [
    "from sagemaker.estimator import Estimator\n",
    "from sagemaker import get_execution_role\n",
    "\n",
    "\n",
    "role = get_execution_role()\n",
    "\n",
    "instance_type = 'ml.c4.2xlarge'\n",
    "algorithm_name = 'wpi-test'\n",
    "\n",
    "\n",
    "ecr_image = \"249838237784.dkr.ecr.us-east-1.amazonaws.com/{}:latest\".format(algorithm_name)\n",
    "\n",
    "# The estimator object, using our notebook, training instance, the ECR image, and the specified training steps\n",
    "estimator = Estimator(role=role,\n",
    "                      train_instance_count=1,\n",
    "                      train_instance_type=instance_type,\n",
    "                      image_name=ecr_image,\n",
    "                      hyperparameters=dict())\n",
    "\n",
    "# Change this value to the path of your video stored with S3\n",
    "model = \"s3://sagemaker-us-east-1-249838237784/wpi-gpu-2020-01-01-21-22-13-271/output/model.tar.gz\"\n",
    "# Change this, if you want, to the path of a video you'd rather annotate than the provided one.\n",
    "video = \"s3://2019testing/everything.mov\"\n",
    "\n",
    "# Annotates `video` video by running your model. Annotated video will be outputted to S3.\n",
    "estimator.fit({\"model\": model,\n",
    "               \"video\":video})"
   ]
  },
  {
   "cell_type": "code",
   "execution_count": null,
   "metadata": {},
   "outputs": [],
   "source": []
  }
 ],
 "metadata": {
  "kernelspec": {
   "display_name": "conda_amazonei_tensorflow_p36",
   "language": "python",
   "name": "conda_amazonei_tensorflow_p36"
  },
  "language_info": {
   "codemirror_mode": {
    "name": "ipython",
    "version": 3
   },
   "file_extension": ".py",
   "mimetype": "text/x-python",
   "name": "python",
   "nbconvert_exporter": "python",
   "pygments_lexer": "ipython3",
   "version": "3.6.5"
  }
 },
 "nbformat": 4,
 "nbformat_minor": 4
}
